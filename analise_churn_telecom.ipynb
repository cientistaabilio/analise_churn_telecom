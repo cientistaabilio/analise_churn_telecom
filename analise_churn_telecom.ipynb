# 1ª Passo: Importar a base de dados
import pandas as pd

tabela = pd.read_csv("telecom_users.csv")

# 2ª Passo: Visualizar a base de dados
tabela = tabela.drop("Unnamed: 0", axis=1)# 0 - linha, 1 - coluna
display(tabela)# - Entender quais as informações tão disponíveis e os problemas encontrados

# Passo 3: Tratamento de dados
# - Valores que estão reconhecidos de forma errada
tabela["TotalGasto"] = pd.to_numeric(tabela["TotalGasto"], errors="coerce")#coerce faz deletar os valores errados

# - Valores vazios
# axis = 0 _> linha
# axis = 1 _> coluna

tabela = tabela.dropna(how="all", axis=1)
#all deleta todas as colunas aonde todos os valores sejam vazio

# deletando as linhas vazias
tabela = tabela.dropna(how="any", axis=0)
#any deleta linha que tenham pelo menos 1 valor vazio

print(tabela.info())
